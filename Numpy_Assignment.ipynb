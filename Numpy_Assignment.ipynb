{
 "cells": [
  {
   "cell_type": "markdown",
   "id": "e82beb82-bb7b-4ef9-92ea-e842d5a7105d",
   "metadata": {},
   "source": [
    "***Numpy Assignment***"
   ]
  },
  {
   "cell_type": "markdown",
   "id": "b2345ac9-6ff5-4850-b291-b8886cf26229",
   "metadata": {},
   "source": [
    "1. What is a Python library? Why do we use Python libraries?"
   ]
  },
  {
   "cell_type": "raw",
   "id": "3eede1a5-cfd5-43dc-a6aa-75114c1f5c4e",
   "metadata": {},
   "source": [
    "A Python library is a collection of related modules. It contains bundles of code that can be used repeatedly in different programs. It makes Python Programming simpler and convenient for the programmer. As we don’t need to write the same code again and again for different programs. Python libraries play a very vital role in fields of Machine Learning, Data Science, Data Visualization, etc.\n",
    "\n",
    "As we write large-size programs in Python, we want to maintain the code’s modularity. For the easy maintenance of the code, we split the code into different parts and we can use that code later ever we need it. In Python, modules play that part. Instead of using the same code in different programs and making the code complex, we define mostly used functions in modules and we can just simply import them in a program wherever there is a requirement. We don’t need to write that code but still, we can use its functionality by importing its module. Multiple interrelated modules are stored in a library. And whenever we need to use a module, we import it from its library."
   ]
  },
  {
   "cell_type": "code",
   "execution_count": null,
   "id": "09777127-6d4b-40dc-b109-e4c93c3dde33",
   "metadata": {},
   "outputs": [],
   "source": []
  },
  {
   "cell_type": "markdown",
   "id": "9f2c3b90-6b45-4c16-917c-84a15a26ac26",
   "metadata": {},
   "source": [
    "2. What is the difference between Numpy array and List?"
   ]
  },
  {
   "cell_type": "raw",
   "id": "c1240385-dfa5-4c28-8202-16362dd5d4e7",
   "metadata": {},
   "source": [
    "Numpy arrays is a typed array, the array in memory stores a homogenous, densely packed numbers.\n",
    "\n",
    "Python list is a heterogeneous list, the list in memory stores references to objects rather than the number themselves.\n",
    "\n",
    "This means that Python list requires dereferencing a pointer every time the code needs to access the number. While numpy array can be processed directly by numpy vector operations, which makes these vector operations much faster than anything you can code with list.\n",
    "\n",
    "The drawback of numpy array is that if you need to access single items in the array, numpy will need to box/unbox the number into a python numeric object, which can make it slow in certain situations; and that it can't hold heterogeneous data."
   ]
  },
  {
   "cell_type": "code",
   "execution_count": null,
   "id": "960c5735-2fe2-43ab-93fd-510a3f681049",
   "metadata": {},
   "outputs": [],
   "source": []
  },
  {
   "cell_type": "markdown",
   "id": "949a59f6-e82f-449a-97e5-d91b4209b114",
   "metadata": {},
   "source": [
    "3. Find the shape, size and dimension of the following array?\n",
    "\n",
    "[[1, 2, 3, 4]\n",
    "\n",
    "[5, 6, 7, 8],\n",
    "\n",
    "[9, 10, 11, 12]]"
   ]
  },
  {
   "cell_type": "code",
   "execution_count": 4,
   "id": "967060a7-75f0-41c4-84c7-536eafd4d328",
   "metadata": {},
   "outputs": [],
   "source": [
    "a = [[1, 2, 3, 4],\n",
    "\n",
    "[5, 6, 7, 8],\n",
    "\n",
    "[9, 10, 11, 12]]"
   ]
  },
  {
   "cell_type": "code",
   "execution_count": 9,
   "id": "4ee57b19-3315-48ac-a14b-9aec5e7b7f3f",
   "metadata": {},
   "outputs": [
    {
     "name": "stdout",
     "output_type": "stream",
     "text": [
      "[[ 1  2  3  4]\n",
      " [ 5  6  7  8]\n",
      " [ 9 10 11 12]]\n"
     ]
    }
   ],
   "source": [
    "# First import the numpy\n",
    "import numpy as np\n",
    "\n",
    "print(np.array(a)) # printing the array"
   ]
  },
  {
   "cell_type": "code",
   "execution_count": 20,
   "id": "c8e86577-55e3-4891-82f7-d155fdfa6664",
   "metadata": {},
   "outputs": [
    {
     "data": {
      "text/plain": [
       "(3, 4)"
      ]
     },
     "execution_count": 20,
     "metadata": {},
     "output_type": "execute_result"
    }
   ],
   "source": [
    "# Shape\n",
    "np.shape(a)"
   ]
  },
  {
   "cell_type": "code",
   "execution_count": 13,
   "id": "e6f7e9f7-d50f-4da0-98ec-82d97a6e7a74",
   "metadata": {},
   "outputs": [
    {
     "data": {
      "text/plain": [
       "12"
      ]
     },
     "execution_count": 13,
     "metadata": {},
     "output_type": "execute_result"
    }
   ],
   "source": [
    "# size\n",
    "np.size(a)"
   ]
  },
  {
   "cell_type": "code",
   "execution_count": 11,
   "id": "f9196d9f-bff3-4711-a433-b2e1c5027088",
   "metadata": {},
   "outputs": [
    {
     "data": {
      "text/plain": [
       "2"
      ]
     },
     "execution_count": 11,
     "metadata": {},
     "output_type": "execute_result"
    }
   ],
   "source": [
    "# Dimensions\n",
    "np.ndim(a)"
   ]
  },
  {
   "cell_type": "code",
   "execution_count": null,
   "id": "4da43770-5a9e-4799-b3d7-617a30e13791",
   "metadata": {},
   "outputs": [],
   "source": []
  },
  {
   "cell_type": "code",
   "execution_count": null,
   "id": "a5d543ea-4db6-4595-9cce-84b2b8c4f87a",
   "metadata": {},
   "outputs": [],
   "source": []
  },
  {
   "cell_type": "markdown",
   "id": "235f51ab-76cd-494d-81bd-cf7ff878052d",
   "metadata": {},
   "source": [
    "4. Write python code to access the first row of the following array?\n",
    "\n",
    "[[1, 2, 3, 4]\n",
    "\n",
    "[5, 6, 7, 8],\n",
    "\n",
    "[9, 10, 11, 12]]"
   ]
  },
  {
   "cell_type": "code",
   "execution_count": 40,
   "id": "a0dd289d-500b-4664-b116-19ed58c35a71",
   "metadata": {},
   "outputs": [
    {
     "data": {
      "text/plain": [
       "array([[ 1,  2,  3,  4],\n",
       "       [ 5,  6,  7,  8],\n",
       "       [ 9, 10, 11, 12]])"
      ]
     },
     "execution_count": 40,
     "metadata": {},
     "output_type": "execute_result"
    }
   ],
   "source": [
    "a = [[1, 2, 3, 4],\n",
    "\n",
    "[5, 6, 7, 8],\n",
    "\n",
    "[9, 10, 11, 12]]\n",
    "\n",
    "# converting into numpy array\n",
    "b = np.array(a)\n",
    "\n",
    "b"
   ]
  },
  {
   "cell_type": "code",
   "execution_count": 41,
   "id": "2718877d-fead-4837-a2fa-49f7144bacea",
   "metadata": {},
   "outputs": [
    {
     "data": {
      "text/plain": [
       "array([1, 2, 3, 4])"
      ]
     },
     "execution_count": 41,
     "metadata": {},
     "output_type": "execute_result"
    }
   ],
   "source": [
    "## first row of the array\n",
    "b[0]"
   ]
  },
  {
   "cell_type": "code",
   "execution_count": null,
   "id": "8c9642a1-5b95-4b39-add9-c73011a9a398",
   "metadata": {},
   "outputs": [],
   "source": []
  },
  {
   "cell_type": "code",
   "execution_count": null,
   "id": "37e0561a-56fe-410d-b962-9a0cf04b3275",
   "metadata": {},
   "outputs": [],
   "source": []
  },
  {
   "cell_type": "markdown",
   "id": "0dfdeb93-f429-472b-97c4-bc0e91b1b7aa",
   "metadata": {},
   "source": [
    "5. How do you access the element at the third row and fourth column from the given numpy array?\n",
    "\n",
    "[[1, 2, 3, 4],\n",
    "\n",
    "[5, 6, 7, 8],\n",
    "\n",
    "[9, 10, 11, 12]]"
   ]
  },
  {
   "cell_type": "code",
   "execution_count": 42,
   "id": "1e56fc43-7c2d-41aa-9a1f-eed47f6a3389",
   "metadata": {},
   "outputs": [
    {
     "data": {
      "text/plain": [
       "array([[ 1,  2,  3,  4],\n",
       "       [ 5,  6,  7,  8],\n",
       "       [ 9, 10, 11, 12]])"
      ]
     },
     "execution_count": 42,
     "metadata": {},
     "output_type": "execute_result"
    }
   ],
   "source": [
    "a =[[1, 2, 3, 4],\n",
    "\n",
    "[5, 6, 7, 8],\n",
    "\n",
    "[9, 10, 11, 12]]\n",
    "\n",
    "# converting into numpy array\n",
    "c = np.array(a)\n",
    "\n",
    "c"
   ]
  },
  {
   "cell_type": "code",
   "execution_count": 43,
   "id": "7876f744-0c32-484d-a09e-34f82b6331d2",
   "metadata": {},
   "outputs": [
    {
     "data": {
      "text/plain": [
       "12"
      ]
     },
     "execution_count": 43,
     "metadata": {},
     "output_type": "execute_result"
    }
   ],
   "source": [
    "# the element at the third row and fourth column\n",
    "c[2,3]"
   ]
  },
  {
   "cell_type": "code",
   "execution_count": null,
   "id": "b3f30055-89d1-4c1a-af2d-f7a04080c64c",
   "metadata": {},
   "outputs": [],
   "source": []
  },
  {
   "cell_type": "code",
   "execution_count": null,
   "id": "fa6e6f2d-1a82-428a-9244-a571412d1af7",
   "metadata": {},
   "outputs": [],
   "source": []
  },
  {
   "cell_type": "markdown",
   "id": "e442cc7d-8f37-41b0-821f-2b7c2ee0a736",
   "metadata": {},
   "source": [
    "6. Write code to extract all odd-indexed elements from the given numpy array?\n",
    "\n",
    "[[1, 2, 3, 4],\n",
    "\n",
    "[5, 6, 7, 8],\n",
    "\n",
    "[9, 10, 11, 12]]"
   ]
  },
  {
   "cell_type": "code",
   "execution_count": 44,
   "id": "a45dfc71-00aa-48b6-a53a-9283c476b133",
   "metadata": {},
   "outputs": [
    {
     "data": {
      "text/plain": [
       "array([[ 1,  2,  3,  4],\n",
       "       [ 5,  6,  7,  8],\n",
       "       [ 9, 10, 11, 12]])"
      ]
     },
     "execution_count": 44,
     "metadata": {},
     "output_type": "execute_result"
    }
   ],
   "source": [
    "a = [[1, 2, 3, 4],\n",
    "\n",
    "[5, 6, 7, 8],\n",
    "\n",
    "[9, 10, 11, 12]]\n",
    "\n",
    "# converting into numpy array\n",
    "d = np.array(a)\n",
    "\n",
    "d"
   ]
  },
  {
   "cell_type": "code",
   "execution_count": 47,
   "id": "174bf1eb-3569-48c4-a908-2ee1f89ad219",
   "metadata": {},
   "outputs": [
    {
     "data": {
      "text/plain": [
       "array([[ 2,  4],\n",
       "       [ 6,  8],\n",
       "       [10, 12]])"
      ]
     },
     "execution_count": 47,
     "metadata": {},
     "output_type": "execute_result"
    }
   ],
   "source": [
    "# odd elements in the array are 2,4,6,8,10,12\n",
    "# by slicing \n",
    "d[:,1::2]"
   ]
  },
  {
   "cell_type": "code",
   "execution_count": null,
   "id": "a1cd4d47-4b03-4f28-971a-b481df3a36c4",
   "metadata": {},
   "outputs": [],
   "source": []
  },
  {
   "cell_type": "code",
   "execution_count": null,
   "id": "cf4d0d92-7815-4ca4-beb2-e62e08224262",
   "metadata": {},
   "outputs": [],
   "source": []
  },
  {
   "cell_type": "markdown",
   "id": "9aa57fd1-0d28-41a2-8d70-4fd41ae30971",
   "metadata": {},
   "source": [
    "7. How can you generate a random 3x3 matrix with values between 0 and 1?\n"
   ]
  },
  {
   "cell_type": "code",
   "execution_count": 68,
   "id": "19354cf3-3f8e-44ac-aff4-7a31af0ee2df",
   "metadata": {},
   "outputs": [
    {
     "data": {
      "text/plain": [
       "array([[0.57997329, 0.68284845, 0.9322991 ],\n",
       "       [0.24506528, 0.13649409, 0.89661506],\n",
       "       [0.56821795, 0.78662658, 0.54447817]])"
      ]
     },
     "execution_count": 68,
     "metadata": {},
     "output_type": "execute_result"
    }
   ],
   "source": [
    "# generating a numpy array of random 3*3 matrix with value between 0 to 1\n",
    "np.random.random(9).reshape(3,3)"
   ]
  },
  {
   "cell_type": "code",
   "execution_count": null,
   "id": "6c6d9cf2-3e5b-44dd-981d-1d5e9ce5188b",
   "metadata": {},
   "outputs": [],
   "source": []
  },
  {
   "cell_type": "code",
   "execution_count": null,
   "id": "6b0a38d1-c6d6-4414-99a7-2caa8220d214",
   "metadata": {},
   "outputs": [],
   "source": []
  },
  {
   "cell_type": "markdown",
   "id": "7032680b-d4c7-46f1-a326-003c4873d344",
   "metadata": {},
   "source": [
    "8. Describe the difference between np.random.rand and np.random.randn?\n"
   ]
  },
  {
   "cell_type": "raw",
   "id": "ac438cf0-a856-45b9-93c9-6823b5ceda12",
   "metadata": {},
   "source": [
    "numpy.random.rand and numpy.random.randn are both numpy functions used to generate random numbers. However, there are some differences between the two.\n",
    "\n",
    "numpy.random.rand: \n",
    "- generates random numbers from a uniform distribution over the interval (0,1).\n",
    "- takes in the shape of the array as input, and returns an array with that shape.\n",
    "\n",
    "numpy.random.randn: \n",
    "- generates random numbers from a standard normal distribution (mean=0, standard deviation=1).\n",
    "- takes in the shape of the array as input, and returns an array with that shape."
   ]
  },
  {
   "cell_type": "code",
   "execution_count": 75,
   "id": "50f2a348-f800-491b-a87b-28f83c69d87e",
   "metadata": {},
   "outputs": [
    {
     "data": {
      "text/plain": [
       "array([[0.18426188, 0.25703676, 0.40143718],\n",
       "       [0.67284436, 0.78734396, 0.1025062 ],\n",
       "       [0.55736296, 0.04055506, 0.98496892]])"
      ]
     },
     "execution_count": 75,
     "metadata": {},
     "output_type": "execute_result"
    }
   ],
   "source": [
    "# numpy.random.rand example\n",
    "\n",
    "np.random.rand(9).reshape(3,3)"
   ]
  },
  {
   "cell_type": "code",
   "execution_count": 76,
   "id": "cfd7c555-7457-4260-8677-086eeb75b92a",
   "metadata": {},
   "outputs": [
    {
     "data": {
      "text/plain": [
       "array([[-0.32765892,  0.81868691,  0.67157512],\n",
       "       [ 1.02442255,  0.40312031, -0.43544389],\n",
       "       [ 1.61469715, -1.16181636,  1.65811812]])"
      ]
     },
     "execution_count": 76,
     "metadata": {},
     "output_type": "execute_result"
    }
   ],
   "source": [
    "# numpy.random.randn example\n",
    "\n",
    "np.random.randn(9).reshape(3,3)"
   ]
  },
  {
   "cell_type": "code",
   "execution_count": null,
   "id": "9dc6437e-c139-4195-a757-1a51f4897aee",
   "metadata": {},
   "outputs": [],
   "source": []
  },
  {
   "cell_type": "code",
   "execution_count": null,
   "id": "a9c3c1c5-c823-4e9b-980c-b694e6f93733",
   "metadata": {},
   "outputs": [],
   "source": []
  },
  {
   "cell_type": "markdown",
   "id": "bac1e8f9-3d1c-4a48-a920-08c851b3670e",
   "metadata": {},
   "source": [
    "9. Write code to increase the dimension of the following array?\n",
    "\n",
    "[[1, 2, 3, 4]\n",
    "\n",
    "[5, 6, 7, 8],\n",
    "\n",
    "[9, 10, 11, 12]]"
   ]
  },
  {
   "cell_type": "code",
   "execution_count": 82,
   "id": "6f52bbc9-edfe-4581-ba42-22ca2148bb5d",
   "metadata": {},
   "outputs": [
    {
     "data": {
      "text/plain": [
       "array([[ 1,  2,  3,  4],\n",
       "       [ 5,  6,  7,  8],\n",
       "       [ 9, 10, 11, 12]])"
      ]
     },
     "execution_count": 82,
     "metadata": {},
     "output_type": "execute_result"
    }
   ],
   "source": [
    "\n",
    "a = [[1, 2, 3, 4],\n",
    "\n",
    "[5, 6, 7, 8],\n",
    "\n",
    "[9, 10, 11, 12]]\n",
    "\n",
    "# Converting into numpy array\n",
    "e = np.array(a)\n",
    "\n",
    "e"
   ]
  },
  {
   "cell_type": "code",
   "execution_count": 84,
   "id": "775acaf6-2742-4799-809c-cb64096dca67",
   "metadata": {},
   "outputs": [
    {
     "data": {
      "text/plain": [
       "array([[[ 1,  2,  3,  4],\n",
       "        [ 5,  6,  7,  8],\n",
       "        [ 9, 10, 11, 12]]])"
      ]
     },
     "execution_count": 84,
     "metadata": {},
     "output_type": "execute_result"
    }
   ],
   "source": [
    "# increasing the dimension of the array\n",
    "np.expand_dims(e,axis=0)"
   ]
  },
  {
   "cell_type": "code",
   "execution_count": null,
   "id": "8bc220eb-d588-46ba-88d6-5159933afff6",
   "metadata": {},
   "outputs": [],
   "source": []
  },
  {
   "cell_type": "code",
   "execution_count": null,
   "id": "1b79322e-be7e-46db-bf64-af67f8ab1df3",
   "metadata": {},
   "outputs": [],
   "source": []
  },
  {
   "cell_type": "markdown",
   "id": "02d4322b-ca0b-4d72-bf78-857bc6d739f4",
   "metadata": {},
   "source": [
    "10. How to transpose the following array in NumPy?\n",
    "\n",
    "[[1, 2, 3, 4]\n",
    "\n",
    "[5, 6, 7, 8],\n",
    "\n",
    "[9, 10, 11, 12]]"
   ]
  },
  {
   "cell_type": "code",
   "execution_count": 86,
   "id": "fcdaca92-18cc-4f01-bbd0-005a973cbe05",
   "metadata": {},
   "outputs": [],
   "source": [
    "a = [[1, 2, 3, 4],\n",
    "\n",
    "[5, 6, 7, 8],\n",
    "\n",
    "[9, 10, 11, 12]]\n",
    "\n",
    "# Converting into numpy array\n",
    "f = np.array(a)"
   ]
  },
  {
   "cell_type": "code",
   "execution_count": 87,
   "id": "fa924e0e-0427-4235-9d24-154d1f0b3aba",
   "metadata": {},
   "outputs": [
    {
     "data": {
      "text/plain": [
       "array([[ 1,  5,  9],\n",
       "       [ 2,  6, 10],\n",
       "       [ 3,  7, 11],\n",
       "       [ 4,  8, 12]])"
      ]
     },
     "execution_count": 87,
     "metadata": {},
     "output_type": "execute_result"
    }
   ],
   "source": [
    "# Transpose ---row into column and vicevarsa\n",
    "np.transpose(f)\n"
   ]
  },
  {
   "cell_type": "code",
   "execution_count": 88,
   "id": "b397eb3d-9af5-49c8-b399-1d150ec0797f",
   "metadata": {},
   "outputs": [
    {
     "data": {
      "text/plain": [
       "array([[ 1,  5,  9],\n",
       "       [ 2,  6, 10],\n",
       "       [ 3,  7, 11],\n",
       "       [ 4,  8, 12]])"
      ]
     },
     "execution_count": 88,
     "metadata": {},
     "output_type": "execute_result"
    }
   ],
   "source": [
    "f.T # also can be return like this"
   ]
  },
  {
   "cell_type": "code",
   "execution_count": null,
   "id": "26450310-babe-458c-be74-9f5f5a01dece",
   "metadata": {},
   "outputs": [],
   "source": []
  },
  {
   "cell_type": "code",
   "execution_count": null,
   "id": "92d0db9b-a0ca-4abf-88e7-90b27cbd2664",
   "metadata": {},
   "outputs": [],
   "source": []
  },
  {
   "cell_type": "markdown",
   "id": "ec958546-7533-4beb-8ac9-58058bcf5013",
   "metadata": {},
   "source": [
    "11. Consider the following matrix:\n",
    "\n",
    "Matrix A2 [[1, 2, 3, 4] [5, 6, 7, 8],[9, 10, 11, 12]]\n",
    "\n",
    "Matrix B2 [[1, 2, 3, 4] [5, 6, 7, 8],[9, 10, 11, 12]]"
   ]
  },
  {
   "cell_type": "markdown",
   "id": "0dc5dcfd-2e6a-46b7-91ec-d00b6c8ed2b2",
   "metadata": {},
   "source": [
    "Perform the following operation using Python:\n",
    "\n",
    "1. Index wise multiplication\n",
    "2. Matrix multiplication\n",
    "3. Add both the matrices\n",
    "4. Subtract matrix B from A\n",
    "5. Divide Matrix B by A"
   ]
  },
  {
   "cell_type": "code",
   "execution_count": 92,
   "id": "ab476b44-83f0-48fb-b420-7814552f1cef",
   "metadata": {},
   "outputs": [],
   "source": [
    "## Converting matrix into Numpy Matrix\n",
    "\n",
    "A2 = [[1, 2, 3, 4],\n",
    "      [5, 6, 7, 8],\n",
    "      [9, 10, 11, 12]]\n",
    "\n",
    "B2 = [[1, 2, 3, 4], \n",
    "      [5, 6, 7, 8],\n",
    "      [9, 10, 11, 12]]\n",
    "\n",
    "A3 = np.array(A2)\n",
    "B3 = np.array(B2)"
   ]
  },
  {
   "cell_type": "code",
   "execution_count": null,
   "id": "a92b663b-2941-43a6-8a52-64c8db049297",
   "metadata": {},
   "outputs": [],
   "source": []
  },
  {
   "cell_type": "code",
   "execution_count": 93,
   "id": "b486e7c7-1aa6-4967-9c53-01171da2aae5",
   "metadata": {},
   "outputs": [
    {
     "name": "stdout",
     "output_type": "stream",
     "text": [
      "479001600\n",
      "479001600\n"
     ]
    }
   ],
   "source": [
    "## 1. Index wise Multiplication \n",
    "\n",
    "# using \"prod\"\n",
    "print(np.prod(A3))\n",
    "print(np.prod(B3))"
   ]
  },
  {
   "cell_type": "code",
   "execution_count": 95,
   "id": "7e6185bb-e38f-4536-a819-5c9e2b1b099d",
   "metadata": {},
   "outputs": [
    {
     "data": {
      "text/plain": [
       "' cannot perform multipication because the shape of the matrix is suitable \\n    shapes of the matrix must be in (3,4) and (4,3) but here the shape is \\n    (3,4) and (3,4).\\n'"
      ]
     },
     "execution_count": 95,
     "metadata": {},
     "output_type": "execute_result"
    }
   ],
   "source": [
    "## 2. Matrix multiplication\n",
    "\n",
    "''' cannot perform multipication because the shape of the matrix is suitable \n",
    "    shapes of the matrix must be in (3,4) and (4,3) but here the shape is \n",
    "    (3,4) and (3,4).\n",
    "'''"
   ]
  },
  {
   "cell_type": "code",
   "execution_count": 99,
   "id": "fc874f7b-2af5-4dbd-87a8-0d7050e1d3eb",
   "metadata": {},
   "outputs": [
    {
     "data": {
      "text/plain": [
       "array([[ 2,  4,  6,  8],\n",
       "       [10, 12, 14, 16],\n",
       "       [18, 20, 22, 24]])"
      ]
     },
     "execution_count": 99,
     "metadata": {},
     "output_type": "execute_result"
    }
   ],
   "source": [
    "## 3. Add both the matrices\n",
    "\n",
    "add = np.add(A3,B3)\n",
    "add"
   ]
  },
  {
   "cell_type": "code",
   "execution_count": 102,
   "id": "69b4a314-39b6-4ded-9def-edccd496ca20",
   "metadata": {},
   "outputs": [
    {
     "data": {
      "text/plain": [
       "array([[0, 0, 0, 0],\n",
       "       [0, 0, 0, 0],\n",
       "       [0, 0, 0, 0]])"
      ]
     },
     "execution_count": 102,
     "metadata": {},
     "output_type": "execute_result"
    }
   ],
   "source": [
    "## 4. Subtract matrix B from A\n",
    "\n",
    "sub = np.subtract(A3,B3)\n",
    "sub"
   ]
  },
  {
   "cell_type": "code",
   "execution_count": 104,
   "id": "8899b0b8-d167-4757-b4db-6a1d2f95bee6",
   "metadata": {},
   "outputs": [
    {
     "data": {
      "text/plain": [
       "array([[1., 1., 1., 1.],\n",
       "       [1., 1., 1., 1.],\n",
       "       [1., 1., 1., 1.]])"
      ]
     },
     "execution_count": 104,
     "metadata": {},
     "output_type": "execute_result"
    }
   ],
   "source": [
    "## 5. Divide Matrix B by A\n",
    "\n",
    "div = np.divide(B3,A3)\n",
    "\n",
    "div"
   ]
  },
  {
   "cell_type": "code",
   "execution_count": null,
   "id": "a3ae269c-b327-481b-8339-605e11d66cbd",
   "metadata": {},
   "outputs": [],
   "source": []
  },
  {
   "cell_type": "code",
   "execution_count": null,
   "id": "4f8b4711-c15b-4f4f-b3e9-2f9eb97e30b9",
   "metadata": {},
   "outputs": [],
   "source": []
  },
  {
   "cell_type": "markdown",
   "id": "e833b222-0d88-40c2-aec6-41c30ed920d1",
   "metadata": {},
   "source": [
    "12.  Which function in Numpy can be used to swap the byte order of an array?\n"
   ]
  },
  {
   "cell_type": "raw",
   "id": "99291dfa-3292-4053-8fe9-609996aae8fb",
   "metadata": {},
   "source": [
    "The fuction named \"byteswap()\" is used to swap the byte order of an array in Numpy."
   ]
  },
  {
   "cell_type": "code",
   "execution_count": null,
   "id": "b8a56b46-1291-4df5-a3eb-c2b40f99ad44",
   "metadata": {},
   "outputs": [],
   "source": []
  },
  {
   "cell_type": "code",
   "execution_count": null,
   "id": "c60c4219-93fa-4df3-aa7a-21dd4bc9b002",
   "metadata": {},
   "outputs": [],
   "source": []
  },
  {
   "cell_type": "markdown",
   "id": "57bc4b9a-d8ab-4e38-ab7a-7209be420e59",
   "metadata": {},
   "source": [
    "13.  What is the significance of the np.linalg.inv function?\n"
   ]
  },
  {
   "cell_type": "raw",
   "id": "b7a1e5d1-8560-4658-9146-70d05fcf7ac8",
   "metadata": {},
   "source": [
    "The numpy.linalg.inv () function is extremely helpful when doing rigorous calculations. Knowing the correct syntax and modifying the code to accommodate user input helps when there is no static input for a particular program"
   ]
  },
  {
   "cell_type": "code",
   "execution_count": null,
   "id": "1f5545f6-d9d8-49a5-ab69-bc653c0c6b5a",
   "metadata": {},
   "outputs": [],
   "source": []
  },
  {
   "cell_type": "code",
   "execution_count": null,
   "id": "5f7371f8-5006-401a-9a5c-b2b9782917db",
   "metadata": {},
   "outputs": [],
   "source": []
  },
  {
   "cell_type": "markdown",
   "id": "286cf599-9549-414d-805e-04821f9b4643",
   "metadata": {},
   "source": [
    "14. What does the np.reshape function do, and how is it used?\r\n"
   ]
  },
  {
   "cell_type": "raw",
   "id": "694affc7-d7d3-4181-b292-4a3de820ecd7",
   "metadata": {},
   "source": [
    "The np.reshape function is used to give a new shape to an array without changing its data. It allows you to reorganize the elements of an array into a specified shape.\n",
    "\n",
    "The syntax is--\n",
    "np.reshape(a,(new shape))\n",
    "\n",
    "where-\n",
    "\"a\" is the array to which we have to change the shape.\n",
    "In ( new shape) the shape we like to give to a.\n",
    "\n",
    "Example-\n",
    "\n",
    "a = array[1,2,3,4]\n",
    "\n",
    "# changing the shape\n",
    "np.reshape(a,(2,2))"
   ]
  },
  {
   "cell_type": "raw",
   "id": "abe26d89-f183-41ed-befe-824fce4e17a5",
   "metadata": {},
   "source": [
    "# Output--\n",
    "[[1,2],\n",
    "[3,4]]"
   ]
  },
  {
   "cell_type": "code",
   "execution_count": null,
   "id": "6144f9b2-6fbe-43d7-bac8-89760024b274",
   "metadata": {},
   "outputs": [],
   "source": []
  },
  {
   "cell_type": "code",
   "execution_count": null,
   "id": "469e0a35-35ce-47af-a862-4e19609ab761",
   "metadata": {},
   "outputs": [],
   "source": []
  },
  {
   "cell_type": "markdown",
   "id": "57852be1-7370-4835-972a-a5897e946b20",
   "metadata": {},
   "source": [
    "15. What is broadcasting in Numpy?\r\n"
   ]
  },
  {
   "cell_type": "raw",
   "id": "fce77e6a-d65c-4894-a9df-f35142db2ef3",
   "metadata": {},
   "source": [
    "In NumPy, we can perform mathematical operations on arrays of different shapes. An array with a smaller shape is expanded to match the shape of a larger one. This is called broadcasting."
   ]
  },
  {
   "cell_type": "code",
   "execution_count": 105,
   "id": "0b2f0510-d023-42b4-b4e6-747939230745",
   "metadata": {},
   "outputs": [
    {
     "name": "stdout",
     "output_type": "stream",
     "text": [
      "[[2 3 4]\n",
      " [3 4 5]\n",
      " [4 5 6]]\n"
     ]
    }
   ],
   "source": [
    "## Example------->\n",
    "\n",
    "# create 1-D array\n",
    "array1 = np.array([1, 2, 3])\n",
    "\n",
    "# create 2-D array\n",
    "array2 = np.array([[1], [2], [3]])\n",
    "\n",
    "# add arrays of different dimension\n",
    "# size of array1 expands to match with array2\n",
    "sum = array1 + array2\n",
    "\n",
    "print(sum)"
   ]
  }
 ],
 "metadata": {
  "kernelspec": {
   "display_name": "Python 3 (ipykernel)",
   "language": "python",
   "name": "python3"
  },
  "language_info": {
   "codemirror_mode": {
    "name": "ipython",
    "version": 3
   },
   "file_extension": ".py",
   "mimetype": "text/x-python",
   "name": "python",
   "nbconvert_exporter": "python",
   "pygments_lexer": "ipython3",
   "version": "3.11.4"
  }
 },
 "nbformat": 4,
 "nbformat_minor": 5
}
